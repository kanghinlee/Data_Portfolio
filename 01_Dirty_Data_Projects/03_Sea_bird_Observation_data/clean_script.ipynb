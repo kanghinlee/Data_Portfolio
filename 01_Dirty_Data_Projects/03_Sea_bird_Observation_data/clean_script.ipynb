{
 "cells": [
  {
   "cell_type": "code",
   "execution_count": 1,
   "metadata": {},
   "outputs": [
    {
     "name": "stderr",
     "output_type": "stream",
     "text": [
      "C:\\Users\\K\\AppData\\Local\\Temp\\ipykernel_5612\\1102577416.py:1: DeprecationWarning: \n",
      "Pyarrow will become a required dependency of pandas in the next major release of pandas (pandas 3.0),\n",
      "(to allow more performant data types, such as the Arrow string type, and better interoperability with other libraries)\n",
      "but was not found to be installed on your system.\n",
      "If this would cause problems for you,\n",
      "please provide us feedback at https://github.com/pandas-dev/pandas/issues/54466\n",
      "        \n",
      "  import pandas as pd\n"
     ]
    }
   ],
   "source": [
    "import pandas as pd\n",
    "import numpy as np\n",
    "import re\n",
    "from function_file import clean_names\n"
   ]
  },
  {
   "cell_type": "code",
   "execution_count": 2,
   "metadata": {},
   "outputs": [],
   "source": [
    "raw_bird = pd.read_excel(r\"data_in\\seabirds.xls\", sheet_name= \"Bird data by record ID\")\n",
    "raw_ship = pd.read_excel(r\"data_in\\seabirds.xls\", sheet_name= \"Ship data by record ID\")\n",
    "# Bird data by record ID"
   ]
  },
  {
   "cell_type": "code",
   "execution_count": 3,
   "metadata": {},
   "outputs": [
    {
     "data": {
      "text/plain": [
       "Index(['record', 'record_id', 'date', 'time', 'lat', 'long', 'ew', 'sact',\n",
       "       'speed', 'sdir', 'cld', 'prec', 'wspeed', 'wdir', 'atmp', 'aprs',\n",
       "       'sste', 'stmp', 'sal', 'depth', 'obs', 'csmeth', 'month', 'seasn',\n",
       "       'long360', 'latcell', 'longecell'],\n",
       "      dtype='object')"
      ]
     },
     "execution_count": 3,
     "metadata": {},
     "output_type": "execute_result"
    }
   ],
   "source": [
    "clean_ship = raw_ship.rename(columns = clean_names).copy()\n",
    "clean_ship.columns"
   ]
  },
  {
   "cell_type": "code",
   "execution_count": 4,
   "metadata": {},
   "outputs": [
    {
     "data": {
      "text/plain": [
       "Index(['record', 'record_id', 'common_name', 'sci_name', 'abbreviation', 'age',\n",
       "       'wanplum', 'plphase', 'sex', 'count', 'nfeed', 'ocfeed', 'nsow',\n",
       "       'ocsow', 'nsoice', 'ocsoice', 'ocsoshp', 'ocinhd', 'nflyp', 'ocflyp',\n",
       "       'nacc', 'ocacc', 'nfoll', 'ocfol', 'ocmoult', 'ocnatfed'],\n",
       "      dtype='object')"
      ]
     },
     "execution_count": 4,
     "metadata": {},
     "output_type": "execute_result"
    }
   ],
   "source": [
    "\n",
    "col_to_rename = {'species_common_name_taxon_age__sex__plumage_phase': 'common_name',\n",
    "                'species__scientific_name_taxon_age_sex___plumage_phase': 'sci_name',\n",
    "                'species_abbreviation': 'abbreviation'}\n",
    "\n",
    "# Clean Column Names\n",
    "clean_bird = raw_bird.rename(columns = clean_names).copy()\n",
    "# Replace a couple of key columns with assigned names\n",
    "clean_bird.rename(columns = col_to_rename, inplace = True)\n",
    "clean_bird.columns"
   ]
  },
  {
   "cell_type": "code",
   "execution_count": 5,
   "metadata": {},
   "outputs": [],
   "source": [
    "\n",
    "df_bird = clean_bird[[\"record_id\", \"common_name\", \"sci_name\", \"abbreviation\", \"count\"]].copy()\n",
    "           "
   ]
  },
  {
   "cell_type": "code",
   "execution_count": 6,
   "metadata": {},
   "outputs": [],
   "source": [
    "# Merge df_ship and df_bird by record_ID\n",
    "df = pd.merge(clean_ship, df_bird,how = \"left\", on = \"record_id\")"
   ]
  },
  {
   "cell_type": "code",
   "execution_count": 7,
   "metadata": {},
   "outputs": [
    {
     "data": {
      "text/plain": [
       "abbreviation\n",
       "PUFTEN        982553.0\n",
       "PACSP         326499.0\n",
       "PUFGRI        174329.0\n",
       "PUFGAV        113333.0\n",
       "PUFBUL         64750.0\n",
       "                ...   \n",
       "THABUL IMM         1.0\n",
       "MACGIG DRK         1.0\n",
       "LARNOV IMM         0.0\n",
       "ANOMIN             0.0\n",
       "STEHIR IMM         0.0\n",
       "Name: count, Length: 320, dtype: float64"
      ]
     },
     "execution_count": 7,
     "metadata": {},
     "output_type": "execute_result"
    }
   ],
   "source": [
    "\n",
    "# Which bird had the highest total count?\n",
    "df_bird_count = df.groupby([\"abbreviation\"])[\"count\"].sum()\n",
    "df_bird_count.sort_values(ascending= False)"
   ]
  },
  {
   "cell_type": "code",
   "execution_count": 8,
   "metadata": {},
   "outputs": [
    {
     "data": {
      "text/plain": [
       "'PUFPAC'"
      ]
     },
     "execution_count": 8,
     "metadata": {},
     "output_type": "execute_result"
    }
   ],
   "source": [
    "# Which bird had the highest total count above a latitude of -30?\n",
    "\n",
    "df_above_lat = df.query('lat >= -30').groupby([\"abbreviation\"])[\"count\"].sum()\n",
    "\n",
    "df_above_lat.sort_values(ascending = False).idxmax()"
   ]
  },
  {
   "cell_type": "code",
   "execution_count": 9,
   "metadata": {},
   "outputs": [
    {
     "data": {
      "text/plain": [
       "297"
      ]
     },
     "execution_count": 9,
     "metadata": {},
     "output_type": "execute_result"
    }
   ],
   "source": [
    "# How many different types of birds were only ever seen in groups of 1?\n",
    "df_group_1 = df.loc[df[\"count\"]== 1]\n",
    "df_group_1_count = df_group_1[\"abbreviation\"].nunique()\n",
    "df_group_1_count\n"
   ]
  },
  {
   "cell_type": "code",
   "execution_count": 16,
   "metadata": {},
   "outputs": [
    {
     "data": {
      "text/plain": [
       "158.0"
      ]
     },
     "execution_count": 16,
     "metadata": {},
     "output_type": "execute_result"
    }
   ],
   "source": [
    "# How many penguins were seen? (Hint: there are many types of penguin)\n",
    "\n",
    "df_penguin = df.dropna(subset = [\"common_name\"]).copy()\n",
    "# String to lower case\n",
    "df_penguin[\"common_name\"] = df_penguin[\"common_name\"] .str.upper()\n",
    "\n",
    "df_penguin = df_penguin[df_penguin[\"common_name\"].str.contains(\"PENGUIN\") ]\n",
    "\n",
    "df_penguin_count = df_penguin[\"count\"].sum()\n",
    "df_penguin_count"
   ]
  }
 ],
 "metadata": {
  "kernelspec": {
   "display_name": "Python 3",
   "language": "python",
   "name": "python3"
  },
  "language_info": {
   "codemirror_mode": {
    "name": "ipython",
    "version": 3
   },
   "file_extension": ".py",
   "mimetype": "text/x-python",
   "name": "python",
   "nbconvert_exporter": "python",
   "pygments_lexer": "ipython3",
   "version": "3.12.3"
  }
 },
 "nbformat": 4,
 "nbformat_minor": 2
}
