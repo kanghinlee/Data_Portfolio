{
 "cells": [
  {
   "cell_type": "code",
   "execution_count": 174,
   "metadata": {},
   "outputs": [],
   "source": [
    "import pandas as pd\n",
    "import numpy as np\n",
    "import re\n",
    "from function_file import clean_names\n"
   ]
  },
  {
   "cell_type": "code",
   "execution_count": 175,
   "metadata": {},
   "outputs": [
    {
     "name": "stderr",
     "output_type": "stream",
     "text": [
      "C:\\Users\\K\\AppData\\Local\\Packages\\PythonSoftwareFoundation.Python.3.12_qbz5n2kfra8p0\\LocalCache\\local-packages\\Python312\\site-packages\\openpyxl\\worksheet\\_reader.py:329: UserWarning: Unknown extension is not supported and will be removed\n",
      "  warn(msg)\n"
     ]
    }
   ],
   "source": [
    "raw_candy_15 = pd.read_excel(r\"data_in\\boing-boing-candy-2015.xlsx\")\n",
    "raw_candy_16 = pd.read_excel(r\"data_in\\boing-boing-candy-2016.xlsx\")\n",
    "raw_candy_17 = pd.read_excel(r\"data_in\\boing-boing-candy-2017.xlsx\")"
   ]
  },
  {
   "cell_type": "code",
   "execution_count": 176,
   "metadata": {},
   "outputs": [],
   "source": [
    "# raw_candy_16.columns\n",
    "# raw_candy_17.columns"
   ]
  },
  {
   "cell_type": "code",
   "execution_count": 177,
   "metadata": {},
   "outputs": [],
   "source": [
    "candy_15 = raw_candy_15.drop(['Timestamp'],axis = 1).copy()\n",
    "\n",
    "# Rename Age column for consistency\n",
    "candy_15_col_name= {'Are you going actually going trick or treating yourself?':'go_out',\n",
    "    'How old are you?':'age'}\n",
    "candy_15.rename(columns = candy_15_col_name, inplace = True)\n",
    "\n",
    "#This is the pivot long equalvalent\n",
    "candy_15 = candy_15.melt(id_vars = ['age', 'go_out'])\n",
    "\n",
    "# Create core Columns required for this analysis\n",
    "candy_15[\"country\"] = np.nan\n",
    "candy_15[\"gender\"] = \"\"\n",
    "candy_15[\"year\"] = \"2015\"\n",
    "\n",
    "\n"
   ]
  },
  {
   "cell_type": "code",
   "execution_count": 178,
   "metadata": {},
   "outputs": [],
   "source": [
    "# Drop columns\n",
    "candy_16 = raw_candy_16.drop(['Timestamp'],axis = 1).copy()\n",
    "\n",
    "# Create Year Column\n",
    "candy_16[\"year\"] = \"2016\"\n",
    "\n",
    "candy_16_col_name= {'Are you going actually going trick or treating yourself?':'go_out',\n",
    "                    'How old are you?':'age',\n",
    "                    'Which country do you live in?': 'country',\n",
    "                    'Your gender:':'gender'}\n",
    "candy_17.drop(candy_17.filter(regex=':').columns, axis=1, inplace=True)\n",
    "candy_16.rename(columns = candy_16_col_name, inplace = True)\n",
    "\n",
    "#This is the pivot long equalvalent\n",
    "candy_16 = candy_16.melt(id_vars = ['year', 'age', 'country', 'gender','go_out'])\n"
   ]
  },
  {
   "cell_type": "code",
   "execution_count": 179,
   "metadata": {},
   "outputs": [],
   "source": [
    "# Drop columns\n",
    "candy_17 = raw_candy_17.drop(['Internal ID', 'Q1: GOING OUT?', 'Q5: STATE, PROVINCE, COUNTY, ETC', 'Click Coordinates (x, y)'],axis = 1).copy()\n",
    "\n",
    "# Create Year Column\n",
    "candy_17[\"year\"] = \"2017\"\n",
    "\n",
    "# Rename core columns (gender, age, country)\n",
    "candy_17_col_name = {'Q2: GENDER': \"gender\",\n",
    "                     'Q3: AGE':\"age\",\n",
    "                     'Q4: COUNTRY':\"country\",\n",
    "                     'Q1: GOING OUT?':'go_out'}\n",
    "candy_17.rename(columns=candy_17_col_name, inplace = True)\n",
    "\n",
    "\n",
    "\n",
    "#Drop column with ':' (none candy columns)\n",
    "candy_17.drop(candy_17.filter(regex=':').columns, axis=1, inplace=True)\n",
    "\n",
    "#Remove \"Q1 | \" pattern for all column names\n",
    "candy_17.rename(columns=lambda x: re.sub('([Qq].*? \\\\| )','',x), inplace=True)\n",
    "\n",
    "candy_17 = candy_17.melt(id_vars = ['year', 'age', 'country', 'gender'])"
   ]
  },
  {
   "cell_type": "code",
   "execution_count": 180,
   "metadata": {},
   "outputs": [],
   "source": [
    "# Bind dataframes for 2015,2016,2017\n",
    "df = pd.concat([candy_15, candy_16, candy_17])"
   ]
  },
  {
   "cell_type": "code",
   "execution_count": 181,
   "metadata": {},
   "outputs": [
    {
     "name": "stderr",
     "output_type": "stream",
     "text": [
      "C:\\Users\\K\\AppData\\Local\\Temp\\ipykernel_3596\\2977127336.py:13: UserWarning: This pattern is interpreted as a regular expression, and has match groups. To actually get the groups, use str.extract.\n",
      "  clean_country.loc[clean_country[\"country\"].str.contains('(U.*S)', na=False), 'country'] = \"USA\"\n"
     ]
    }
   ],
   "source": [
    "clean_country = df.copy()\n",
    "\n",
    "clean_country[\"country\"] = clean_country[\"country\"].str.upper()\n",
    "\n",
    "#Remove brackets and whats inside\n",
    "clean_country[\"country\"] = clean_country[\"country\"].str.replace(r'\\(.*?\\)', '', regex=True)\n",
    "#Replace United states of mareican with USA\n",
    "# clean_country[\"country\"] = clean_country[\"country\"].str.replace(r'(U.*S.*A)', 'USA', regex=True)\n",
    "\n",
    "\n",
    "# clean_country[\"country\"] = clean_country[\"country\"].str.extract(r'(U.*S.*A)', 'USA')\n",
    "\n",
    "clean_country.loc[clean_country[\"country\"].str.contains('(U.*S)', na=False), 'country'] = \"USA\"\n",
    "\n",
    "clean_country[\"country\"] = clean_country[\"country\"].str.replace(r'[^A-Za-z]', '', regex=True).str.strip()\n",
    "\n",
    "# Remove any country that has more than 12 letter (i.e. longest string)\n",
    "clean_country.loc[clean_country[\"country\"].str.contains('[A-Z]{12,}', na=False), 'country'] = \"\"\n",
    "\n",
    "clean_country[\"country\"] = clean_country[\"country\"].astype(\"category\")\n",
    "clean_country[\"go_out\"] = clean_country[\"go_out\"].astype(\"category\")"
   ]
  },
  {
   "cell_type": "code",
   "execution_count": 182,
   "metadata": {},
   "outputs": [],
   "source": [
    "clean_age = clean_country.copy()\n",
    "\n",
    "clean_age.loc[clean_age[\"age\"].str.contains('[^0-9]', na=False), 'age'] = np.nan\n",
    "\n",
    "clean_age[\"age\"] = clean_age[\"age\"].astype('float')\n",
    "clean_age.loc[clean_age[\"age\"]>99, 'age'] = np.nan"
   ]
  },
  {
   "cell_type": "code",
   "execution_count": 173,
   "metadata": {},
   "outputs": [
    {
     "data": {
      "text/plain": [
       "99    51.0\n",
       "99     NaN\n",
       "99    44.0\n",
       "Name: age, dtype: float64"
      ]
     },
     "execution_count": 173,
     "metadata": {},
     "output_type": "execute_result"
    }
   ],
   "source": []
  },
  {
   "cell_type": "code",
   "execution_count": null,
   "metadata": {},
   "outputs": [],
   "source": [
    "# What is the total number of candy ratings given across the three years. (Number of candy ratings, not the number of raters. Don’t count missing values)\n",
    "# What was the average age of people who are going out trick or treating?\n",
    "# What was the average age of people who are not going trick or treating?\n",
    "# For each of joy, despair and meh, which candy bar revived the most of these ratings?\n",
    "# How many people rated Starburst as despair?\n",
    "# For the next three questions, count despair as -1, joy as +1, and meh as 0.\n",
    "\n",
    "# What was the most popular candy bar by this rating system for each gender in the dataset ?\n",
    "# What was the most popular candy bar in each year?\n",
    "# What was the most popular candy bar by this rating for people in US, Canada, UK, and all other countries?"
   ]
  },
  {
   "cell_type": "code",
   "execution_count": null,
   "metadata": {},
   "outputs": [],
   "source": []
  },
  {
   "cell_type": "code",
   "execution_count": null,
   "metadata": {},
   "outputs": [],
   "source": []
  },
  {
   "cell_type": "code",
   "execution_count": null,
   "metadata": {},
   "outputs": [],
   "source": []
  },
  {
   "cell_type": "code",
   "execution_count": null,
   "metadata": {},
   "outputs": [],
   "source": []
  }
 ],
 "metadata": {
  "kernelspec": {
   "display_name": "Python 3",
   "language": "python",
   "name": "python3"
  },
  "language_info": {
   "codemirror_mode": {
    "name": "ipython",
    "version": 3
   },
   "file_extension": ".py",
   "mimetype": "text/x-python",
   "name": "python",
   "nbconvert_exporter": "python",
   "pygments_lexer": "ipython3",
   "version": "3.12.3"
  }
 },
 "nbformat": 4,
 "nbformat_minor": 2
}
