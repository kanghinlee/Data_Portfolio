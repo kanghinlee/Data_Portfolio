{
 "cells": [
  {
   "cell_type": "code",
   "execution_count": 1,
   "metadata": {},
   "outputs": [
    {
     "name": "stderr",
     "output_type": "stream",
     "text": [
      "C:\\Users\\K\\AppData\\Local\\Temp\\ipykernel_9792\\2295007993.py:1: DeprecationWarning: \n",
      "Pyarrow will become a required dependency of pandas in the next major release of pandas (pandas 3.0),\n",
      "(to allow more performant data types, such as the Arrow string type, and better interoperability with other libraries)\n",
      "but was not found to be installed on your system.\n",
      "If this would cause problems for you,\n",
      "please provide us feedback at https://github.com/pandas-dev/pandas/issues/54466\n",
      "        \n",
      "  import pandas as pd\n"
     ]
    }
   ],
   "source": [
    "import pandas as pd\n",
    "import numpy as np\n",
    "import matplotlib.pyplot as plt\n",
    "import re\n",
    "from function_file import clean_names\n",
    "import seaborn as sns\n"
   ]
  },
  {
   "cell_type": "code",
   "execution_count": 2,
   "metadata": {},
   "outputs": [
    {
     "name": "stderr",
     "output_type": "stream",
     "text": [
      "C:\\Users\\K\\AppData\\Local\\Packages\\PythonSoftwareFoundation.Python.3.12_qbz5n2kfra8p0\\LocalCache\\local-packages\\Python312\\site-packages\\openpyxl\\worksheet\\_reader.py:329: UserWarning: Unknown extension is not supported and will be removed\n",
      "  warn(msg)\n"
     ]
    }
   ],
   "source": [
    "raw_candy_15 = pd.read_excel(r\"data_in\\boing-boing-candy-2015.xlsx\")\n",
    "raw_candy_16 = pd.read_excel(r\"data_in\\boing-boing-candy-2016.xlsx\")\n",
    "raw_candy_17 = pd.read_excel(r\"data_in\\boing-boing-candy-2017.xlsx\")"
   ]
  },
  {
   "cell_type": "code",
   "execution_count": 3,
   "metadata": {},
   "outputs": [],
   "source": [
    "# raw_candy_16.columns\n",
    "# raw_candy_17.columns"
   ]
  },
  {
   "cell_type": "code",
   "execution_count": 4,
   "metadata": {},
   "outputs": [],
   "source": [
    "candy_15 = raw_candy_15.drop(['Timestamp'],axis = 1).copy()\n",
    "\n",
    "# Create core Columns required for this analysis\n",
    "candy_15[\"country\"] = np.nan\n",
    "candy_15[\"gender\"] = \"\"\n",
    "candy_15[\"year\"] = \"2015\"\n",
    "\n",
    "#Create Alias for unique entry\n",
    "candy_15[\"id\"] = candy_15[\"year\"]+\"_\"+candy_15.reset_index().index.astype('string')\n",
    "\n",
    "# Rename Age column for consistency\n",
    "candy_15_col_name= {'Are you going actually going trick or treating yourself?':'go_out',\n",
    "    'How old are you?':'age'}\n",
    "candy_15.rename(columns = candy_15_col_name, inplace = True)\n",
    "\n",
    "\n",
    "#This is the pivot long equalvalent\n",
    "piv_candy_15 = candy_15.melt(id_vars = ['id','age', 'go_out', 'country', 'gender','year'])\n"
   ]
  },
  {
   "cell_type": "code",
   "execution_count": 5,
   "metadata": {},
   "outputs": [],
   "source": [
    "# Drop columns\n",
    "candy_16 = raw_candy_16.drop(['Timestamp', 'Which state, province, county do you live in?'],axis = 1).copy()\n",
    "\n",
    "# Create Year Column\n",
    "candy_16[\"year\"] = \"2016\"\n",
    "\n",
    "#Create Alias for unique entry\n",
    "candy_16[\"id\"] = candy_16[\"year\"]+\"_\"+candy_16.reset_index().index.astype('string')\n",
    "\n",
    "candy_16_col_name= {'Are you going actually going trick or treating yourself?':'go_out',\n",
    "                    'How old are you?':'age',\n",
    "                    'Which country do you live in?': 'country',\n",
    "                    'Your gender:':'gender'}\n",
    "\n",
    "candy_16.rename(columns = candy_16_col_name, inplace = True)\n",
    "\n",
    "#This is the pivot long equalvalent\n",
    "piv_candy_16 = candy_16.melt(id_vars = ['id','year', 'age', 'country', 'gender','go_out'])\n"
   ]
  },
  {
   "cell_type": "code",
   "execution_count": 6,
   "metadata": {},
   "outputs": [],
   "source": [
    "# Drop columns\n",
    "candy_17 = raw_candy_17.drop(['Internal ID', 'Q5: STATE, PROVINCE, COUNTY, ETC', 'Click Coordinates (x, y)'],axis = 1).copy()\n",
    "\n",
    "# Create Year Column\n",
    "candy_17[\"year\"] = \"2017\"\n",
    "\n",
    "#Create Alias for unique entry\n",
    "candy_17[\"id\"] = candy_17[\"year\"]+\"_\"+candy_17.reset_index().index.astype('string')\n",
    "\n",
    "# Rename core columns (gender, age, country)\n",
    "candy_17_col_name = {'Q2: GENDER': \"gender\",\n",
    "                     'Q3: AGE':\"age\",\n",
    "                     'Q4: COUNTRY':\"country\",\n",
    "                     'Q1: GOING OUT?':'go_out'}\n",
    "candy_17.rename(columns=candy_17_col_name, inplace = True)\n",
    "\n",
    "\n",
    "\n",
    "#Drop column with ':' (none candy columns)\n",
    "candy_17.drop(candy_17.filter(regex=':').columns, axis=1, inplace=True)\n",
    "\n",
    "#Remove \"Q1 | \" pattern for all column names\n",
    "candy_17.rename(columns=lambda x: re.sub('([Qq].*? \\\\| )','',x), inplace=True)\n",
    "\n",
    "piv_candy_17 = candy_17.melt(id_vars = ['id','year', 'age', 'country', 'gender','go_out'])"
   ]
  },
  {
   "cell_type": "code",
   "execution_count": 7,
   "metadata": {},
   "outputs": [],
   "source": [
    "# Bind dataframes for 2015,2016,2017\n",
    "df_piv = pd.concat([piv_candy_15, piv_candy_16, piv_candy_17])"
   ]
  },
  {
   "cell_type": "code",
   "execution_count": 8,
   "metadata": {},
   "outputs": [
    {
     "name": "stderr",
     "output_type": "stream",
     "text": [
      "C:\\Users\\K\\AppData\\Local\\Temp\\ipykernel_9792\\2375883885.py:12: UserWarning: This pattern is interpreted as a regular expression, and has match groups. To actually get the groups, use str.extract.\n",
      "  clean_country.loc[clean_country[\"country\"].str.contains('(U.*S)', na=False), 'country'] = \"USA\"\n"
     ]
    }
   ],
   "source": [
    "clean_country = df_piv.copy()\n",
    "\n",
    "clean_country[\"country\"] = clean_country[\"country\"].str.upper()\n",
    "\n",
    "#Remove brackets and whats inside\n",
    "clean_country[\"country\"] = clean_country[\"country\"].str.replace(r'\\(.*?\\)', '', regex=True)\n",
    "#Replace United states of mareican with USA\n",
    "\n",
    "\n",
    "# clean_country[\"country\"] = clean_country[\"country\"].str.extract(r'(U.*S.*A)', 'USA')\n",
    "\n",
    "clean_country.loc[clean_country[\"country\"].str.contains('(U.*S)', na=False), 'country'] = \"USA\"\n",
    "\n",
    "clean_country[\"country\"] = clean_country[\"country\"].str.replace(r'[^A-Za-z]', '', regex=True).str.strip()\n",
    "\n",
    "# Remove any country that has more than 12 letter (i.e. longest string)\n",
    "clean_country.loc[clean_country[\"country\"].str.contains('[A-Z]{12,}', na=False), 'country'] = \"\"\n",
    "\n",
    "clean_country[\"country\"] = clean_country[\"country\"].astype(\"category\")\n",
    "clean_country[\"go_out\"] = clean_country[\"go_out\"].astype(\"category\")"
   ]
  },
  {
   "cell_type": "code",
   "execution_count": 9,
   "metadata": {},
   "outputs": [],
   "source": [
    "clean_age = clean_country.copy()\n",
    "\n",
    "clean_age.loc[clean_age[\"age\"].str.contains('[^0-9]', na=False), 'age'] = np.nan\n",
    "\n",
    "clean_age[\"age\"] = clean_age[\"age\"].astype('float')\n",
    "\n",
    "# Remove any age bigger than 99\n",
    "clean_age.loc[clean_age[\"age\"]>99, 'age'] = np.nan"
   ]
  },
  {
   "cell_type": "code",
   "execution_count": 10,
   "metadata": {},
   "outputs": [],
   "source": [
    "clean_sweet = clean_age.copy()\n",
    "clean_sweet[\"variable\"] = clean_sweet[\"variable\"].str.strip()\n",
    "clean_sweet = clean_sweet.loc[clean_sweet[\"variable\"].str.count(\" \")<=5]\n",
    "clean_sweet = clean_sweet.loc[~clean_sweet[\"variable\"].str.contains(\"Ignore\")]\n"
   ]
  },
  {
   "cell_type": "code",
   "execution_count": 11,
   "metadata": {},
   "outputs": [
    {
     "data": {
      "text/plain": [
       "id\n",
       "2017_2459    97\n",
       "2017_2452    97\n",
       "2017_1231    97\n",
       "2017_2458    97\n",
       "2017_2457    97\n",
       "             ..\n",
       "2015_1886    91\n",
       "2015_1885    91\n",
       "2015_1884    91\n",
       "2015_1890    91\n",
       "2015_4674    91\n",
       "Name: count, Length: 9349, dtype: Int64"
      ]
     },
     "execution_count": 11,
     "metadata": {},
     "output_type": "execute_result"
    }
   ],
   "source": [
    "clean_sweet[\"id\"].value_counts()"
   ]
  },
  {
   "cell_type": "code",
   "execution_count": 12,
   "metadata": {},
   "outputs": [],
   "source": [
    "avg_age = clean_sweet[['id','year', 'age', 'country', 'gender','go_out']].copy()\n",
    "avg_age = avg_age.drop_duplicates().dropna(subset = \"age\")\n",
    "avg_age[\"go_out\"] = avg_age[\"go_out\"].astype(\"category\")"
   ]
  },
  {
   "cell_type": "code",
   "execution_count": 13,
   "metadata": {},
   "outputs": [
    {
     "data": {
      "text/plain": [
       "Text(0.5, 1.0, 'Boxplot')"
      ]
     },
     "execution_count": 13,
     "metadata": {},
     "output_type": "execute_result"
    },
    {
     "data": {
      "image/png": "[encoded data removed]",
      "text/plain": [
       "<Figure size 640x480 with 1 Axes>"
      ]
     },
     "metadata": {},
     "output_type": "display_data"
    }
   ],
   "source": [
    "plt.show()\n",
    "boxplot = avg_age.boxplot(column='age', by = 'go_out')\n",
    "boxplot.set_ylabel(\"Age\")\n",
    "boxplot.set_xlabel(\"Going Out\")\n",
    "boxplot.set_title(\"Boxplot\")"
   ]
  },
  {
   "cell_type": "code",
   "execution_count": 14,
   "metadata": {},
   "outputs": [
    {
     "data": {
      "text/plain": [
       "<Axes: xlabel='age', ylabel='Density'>"
      ]
     },
     "execution_count": 14,
     "metadata": {},
     "output_type": "execute_result"
    },
    {
     "data": {
      "image/png": "[encoded data removed]",
      "text/plain": [
       "<Figure size 640x480 with 1 Axes>"
      ]
     },
     "metadata": {},
     "output_type": "display_data"
    }
   ],
   "source": [
    "plt.show()\n",
    "sns.kdeplot(data = avg_age, x = \"age\", hue = \"go_out\")"
   ]
  },
  {
   "cell_type": "code",
   "execution_count": 15,
   "metadata": {},
   "outputs": [
    {
     "name": "stderr",
     "output_type": "stream",
     "text": [
      "C:\\Users\\K\\AppData\\Local\\Temp\\ipykernel_9792\\468201356.py:4: FutureWarning: The default of observed=False is deprecated and will be changed to True in a future version of pandas. Pass observed=False to retain current behavior or observed=True to adopt the future default and silence this warning.\n",
      "  avg_age_go_out= avg_age.groupby([\"go_out\"])[\"age\"].mean()\n"
     ]
    },
    {
     "data": {
      "text/plain": [
       "go_out\n",
       "No     39.104911\n",
       "Yes    34.941489\n",
       "Name: age, dtype: float64"
      ]
     },
     "execution_count": 15,
     "metadata": {},
     "output_type": "execute_result"
    }
   ],
   "source": [
    "# What was the average age of people who are going out trick or treating?\n",
    "# What was the average age of people who are not going trick or treating?\n",
    "\n",
    "avg_age_go_out= avg_age.groupby([\"go_out\"])[\"age\"].mean()\n",
    "avg_age_go_out"
   ]
  },
  {
   "cell_type": "code",
   "execution_count": 16,
   "metadata": {},
   "outputs": [
    {
     "data": {
      "text/plain": [
       "724572"
      ]
     },
     "execution_count": 16,
     "metadata": {},
     "output_type": "execute_result"
    }
   ],
   "source": [
    "# What is the total number of candy ratings given across the three years. (Number of candy ratings, not the number of raters. Don’t count missing values)\n",
    "tot_num = clean_sweet.copy()\n",
    "tot_num[\"value\"] = tot_num[\"value\"].str.upper().str.strip()\n",
    "tot_num = tot_num.loc[tot_num[\"value\"].isin(['MEH', 'DESPAIR','JOY'])]\n",
    "tot_num.shape[0]\n",
    "\n"
   ]
  },
  {
   "cell_type": "code",
   "execution_count": 17,
   "metadata": {},
   "outputs": [
    {
     "data": {
      "text/html": [
       "<div>\n",
       "<style scoped>\n",
       "    .dataframe tbody tr th:only-of-type {\n",
       "        vertical-align: middle;\n",
       "    }\n",
       "\n",
       "    .dataframe tbody tr th {\n",
       "        vertical-align: top;\n",
       "    }\n",
       "\n",
       "    .dataframe thead th {\n",
       "        text-align: right;\n",
       "    }\n",
       "</style>\n",
       "<table border=\"1\" class=\"dataframe\">\n",
       "  <thead>\n",
       "    <tr style=\"text-align: right;\">\n",
       "      <th></th>\n",
       "      <th>variable</th>\n",
       "      <th>count</th>\n",
       "    </tr>\n",
       "  </thead>\n",
       "  <tbody>\n",
       "    <tr>\n",
       "      <th>82</th>\n",
       "      <td>REESES PEANUT BUTTER CUPS</td>\n",
       "      <td>8386</td>\n",
       "    </tr>\n",
       "  </tbody>\n",
       "</table>\n",
       "</div>"
      ],
      "text/plain": [
       "                     variable  count\n",
       "82  REESES PEANUT BUTTER CUPS   8386"
      ]
     },
     "execution_count": 17,
     "metadata": {},
     "output_type": "execute_result"
    }
   ],
   "source": [
    "# For each of joy, despair and meh, which candy bar revived the most of these ratings?\n",
    "df_candy = tot_num.copy()\n",
    "df_candy[\"variable\"] = df_candy[\"variable\"].str.replace(r'[^0-9A-Za-z\\s]', '', regex=True).str.strip().str.upper()\n",
    "\n",
    "df_candy_rating_n = (df_candy.groupby([\"variable\"])[\"variable\"].count().reset_index(name = \"count\").sort_values([\"count\"], ascending = False).head(1))\n",
    "df_candy_rating_n"
   ]
  },
  {
   "cell_type": "code",
   "execution_count": 18,
   "metadata": {},
   "outputs": [
    {
     "data": {
      "text/html": [
       "<div>\n",
       "<style scoped>\n",
       "    .dataframe tbody tr th:only-of-type {\n",
       "        vertical-align: middle;\n",
       "    }\n",
       "\n",
       "    .dataframe tbody tr th {\n",
       "        vertical-align: top;\n",
       "    }\n",
       "\n",
       "    .dataframe thead th {\n",
       "        text-align: right;\n",
       "    }\n",
       "</style>\n",
       "<table border=\"1\" class=\"dataframe\">\n",
       "  <thead>\n",
       "    <tr style=\"text-align: right;\">\n",
       "      <th></th>\n",
       "      <th>variable</th>\n",
       "      <th>value</th>\n",
       "      <th>count</th>\n",
       "    </tr>\n",
       "  </thead>\n",
       "  <tbody>\n",
       "    <tr>\n",
       "      <th>0</th>\n",
       "      <td>STARBURST</td>\n",
       "      <td>DESPAIR</td>\n",
       "      <td>1990</td>\n",
       "    </tr>\n",
       "  </tbody>\n",
       "</table>\n",
       "</div>"
      ],
      "text/plain": [
       "    variable    value  count\n",
       "0  STARBURST  DESPAIR   1990"
      ]
     },
     "execution_count": 18,
     "metadata": {},
     "output_type": "execute_result"
    }
   ],
   "source": [
    "df_candy_starburst = df_candy.copy()\n",
    "\n",
    "df_candy_starburst = df_candy_starburst.loc[(df_candy_starburst[\"variable\"]== \"STARBURST\") & (df_candy_starburst[\"value\"]==\"DESPAIR\")]\n",
    "df_candy_starburst.groupby([\"variable\", \"value\"])[\"value\"].count().reset_index(name = \"count\")\n",
    "\n",
    "# How many people rated Starburst as despair?\n",
    "\n"
   ]
  },
  {
   "cell_type": "code",
   "execution_count": 19,
   "metadata": {},
   "outputs": [],
   "source": [
    "# Assign Rating to Values\n",
    "    \n",
    "df_candy_rating = df_candy.copy()\n",
    "# df_candy_rating[\"rating\"] = df_candy_rating.apply(assign_rating, axis=1)\n",
    "\n",
    "df_candy_rating[\"rating\"]= np.where(df_candy_rating.value == 'JOY', 1, \n",
    "                                    np.where(df_candy_rating.value == 'DESPAIR', -1, 0))\n",
    "\n",
    "# Excluding Any Fullsize Candy bar since we are doing specific candy analysis\n",
    "df_candy_rating = df_candy_rating.loc[df_candy_rating[\"variable\"]!=\"ANY FULLSIZED CANDY BAR\"]\n"
   ]
  },
  {
   "cell_type": "code",
   "execution_count": 20,
   "metadata": {},
   "outputs": [
    {
     "data": {
      "text/html": [
       "<div>\n",
       "<style scoped>\n",
       "    .dataframe tbody tr th:only-of-type {\n",
       "        vertical-align: middle;\n",
       "    }\n",
       "\n",
       "    .dataframe tbody tr th {\n",
       "        vertical-align: top;\n",
       "    }\n",
       "\n",
       "    .dataframe thead th {\n",
       "        text-align: right;\n",
       "    }\n",
       "</style>\n",
       "<table border=\"1\" class=\"dataframe\">\n",
       "  <thead>\n",
       "    <tr style=\"text-align: right;\">\n",
       "      <th></th>\n",
       "      <th>gender</th>\n",
       "      <th>variable</th>\n",
       "      <th>final_rating</th>\n",
       "    </tr>\n",
       "  </thead>\n",
       "  <tbody>\n",
       "    <tr>\n",
       "      <th>64</th>\n",
       "      <td></td>\n",
       "      <td>REESES PEANUT BUTTER CUPS</td>\n",
       "      <td>4375</td>\n",
       "    </tr>\n",
       "    <tr>\n",
       "      <th>156</th>\n",
       "      <td>Female</td>\n",
       "      <td>REESES PEANUT BUTTER CUPS</td>\n",
       "      <td>768</td>\n",
       "    </tr>\n",
       "    <tr>\n",
       "      <th>228</th>\n",
       "      <td>I'd rather not say</td>\n",
       "      <td>KIT KAT</td>\n",
       "      <td>62</td>\n",
       "    </tr>\n",
       "    <tr>\n",
       "      <th>352</th>\n",
       "      <td>Male</td>\n",
       "      <td>REESES PEANUT BUTTER CUPS</td>\n",
       "      <td>1443</td>\n",
       "    </tr>\n",
       "    <tr>\n",
       "      <th>474</th>\n",
       "      <td>Other</td>\n",
       "      <td>TWIX</td>\n",
       "      <td>32</td>\n",
       "    </tr>\n",
       "  </tbody>\n",
       "</table>\n",
       "</div>"
      ],
      "text/plain": [
       "                 gender                   variable  final_rating\n",
       "64                       REESES PEANUT BUTTER CUPS          4375\n",
       "156              Female  REESES PEANUT BUTTER CUPS           768\n",
       "228  I'd rather not say                    KIT KAT            62\n",
       "352                Male  REESES PEANUT BUTTER CUPS          1443\n",
       "474               Other                       TWIX            32"
      ]
     },
     "execution_count": 20,
     "metadata": {},
     "output_type": "execute_result"
    }
   ],
   "source": [
    "# What was the most popular candy bar by this rating system for each gender in the dataset ?\n",
    "df_gender_rating = df_candy_rating.copy()\n",
    "df_gender_rating = df_candy_rating.groupby([\"gender\", \"variable\"])[\"rating\"].sum().reset_index(name = \"final_rating\")\n",
    "df_gender_rating = df_gender_rating.loc[df_gender_rating.groupby([\"gender\"])[\"final_rating\"].idxmax()]\n",
    "df_gender_rating"
   ]
  },
  {
   "cell_type": "code",
   "execution_count": 21,
   "metadata": {},
   "outputs": [
    {
     "data": {
      "text/html": [
       "<div>\n",
       "<style scoped>\n",
       "    .dataframe tbody tr th:only-of-type {\n",
       "        vertical-align: middle;\n",
       "    }\n",
       "\n",
       "    .dataframe tbody tr th {\n",
       "        vertical-align: top;\n",
       "    }\n",
       "\n",
       "    .dataframe thead th {\n",
       "        text-align: right;\n",
       "    }\n",
       "</style>\n",
       "<table border=\"1\" class=\"dataframe\">\n",
       "  <thead>\n",
       "    <tr style=\"text-align: right;\">\n",
       "      <th></th>\n",
       "      <th>year</th>\n",
       "      <th>variable</th>\n",
       "      <th>tot_rating</th>\n",
       "    </tr>\n",
       "  </thead>\n",
       "  <tbody>\n",
       "    <tr>\n",
       "      <th>64</th>\n",
       "      <td>2015</td>\n",
       "      <td>REESES PEANUT BUTTER CUPS</td>\n",
       "      <td>4375</td>\n",
       "    </tr>\n",
       "    <tr>\n",
       "      <th>127</th>\n",
       "      <td>2016</td>\n",
       "      <td>KIT KAT</td>\n",
       "      <td>920</td>\n",
       "    </tr>\n",
       "    <tr>\n",
       "      <th>248</th>\n",
       "      <td>2017</td>\n",
       "      <td>REESES PEANUT BUTTER CUPS</td>\n",
       "      <td>1403</td>\n",
       "    </tr>\n",
       "  </tbody>\n",
       "</table>\n",
       "</div>"
      ],
      "text/plain": [
       "     year                   variable  tot_rating\n",
       "64   2015  REESES PEANUT BUTTER CUPS        4375\n",
       "127  2016                    KIT KAT         920\n",
       "248  2017  REESES PEANUT BUTTER CUPS        1403"
      ]
     },
     "execution_count": 21,
     "metadata": {},
     "output_type": "execute_result"
    }
   ],
   "source": [
    "# What was the most popular candy bar in each year?\n",
    "df_year_rating = df_candy_rating.copy()\n",
    "df_year_rating = df_year_rating.groupby([\"year\", \"variable\"])[\"rating\"].sum().reset_index(name = \"tot_rating\")\n",
    "\n",
    "find_max = df_year_rating.groupby([\"year\"])[\"tot_rating\"].idxmax()\n",
    "\n",
    "df_year_rating.loc[find_max]\n"
   ]
  },
  {
   "cell_type": "code",
   "execution_count": 25,
   "metadata": {},
   "outputs": [
    {
     "data": {
      "text/html": [
       "<div>\n",
       "<style scoped>\n",
       "    .dataframe tbody tr th:only-of-type {\n",
       "        vertical-align: middle;\n",
       "    }\n",
       "\n",
       "    .dataframe tbody tr th {\n",
       "        vertical-align: top;\n",
       "    }\n",
       "\n",
       "    .dataframe thead th {\n",
       "        text-align: right;\n",
       "    }\n",
       "</style>\n",
       "<table border=\"1\" class=\"dataframe\">\n",
       "  <thead>\n",
       "    <tr style=\"text-align: right;\">\n",
       "      <th></th>\n",
       "      <th>country_cat</th>\n",
       "      <th>variable</th>\n",
       "      <th>tot_rating</th>\n",
       "    </tr>\n",
       "  </thead>\n",
       "  <tbody>\n",
       "    <tr>\n",
       "      <th>42</th>\n",
       "      <td>CANADA</td>\n",
       "      <td>KIT KAT</td>\n",
       "      <td>230</td>\n",
       "    </tr>\n",
       "    <tr>\n",
       "      <th>179</th>\n",
       "      <td>OTHER</td>\n",
       "      <td>REESES PEANUT BUTTER CUPS</td>\n",
       "      <td>4485</td>\n",
       "    </tr>\n",
       "    <tr>\n",
       "      <th>259</th>\n",
       "      <td>UK</td>\n",
       "      <td>LINDT TRUFFLE</td>\n",
       "      <td>17</td>\n",
       "    </tr>\n",
       "    <tr>\n",
       "      <th>378</th>\n",
       "      <td>US</td>\n",
       "      <td>REESES PEANUT BUTTER CUPS</td>\n",
       "      <td>1976</td>\n",
       "    </tr>\n",
       "  </tbody>\n",
       "</table>\n",
       "</div>"
      ],
      "text/plain": [
       "    country_cat                   variable  tot_rating\n",
       "42       CANADA                    KIT KAT         230\n",
       "179       OTHER  REESES PEANUT BUTTER CUPS        4485\n",
       "259          UK              LINDT TRUFFLE          17\n",
       "378          US  REESES PEANUT BUTTER CUPS        1976"
      ]
     },
     "execution_count": 25,
     "metadata": {},
     "output_type": "execute_result"
    }
   ],
   "source": [
    "# What was the most popular candy bar by this rating for people in US, Canada, UK, and all other countries?\n",
    "df_country_rating = df_candy_rating.copy()\n",
    "\n",
    "list_us = [\"USA\", \"MURICA\" \"AAMERICA\", \"USA\", \"USSA\", \"AMERICA\",  \"AHEMAMERCA\"]\n",
    "list_uk = [\"UK\"]\n",
    "list_can = [\"CAN\", \"CANADA\"]\n",
    "\n",
    "df_country_rating[\"country_cat\"] = np.where(df_country_rating[\"country\"].isin(list_us), \"US\", \n",
    "                                          np.where(df_country_rating[\"country\"].isin(list_uk), \"UK\",\n",
    "                                                   np.where(df_country_rating[\"country\"].isin(list_can), \"CANADA\", \"OTHER\")))\n",
    "\n",
    "df_country_rating = df_country_rating.groupby([\"country_cat\", \"variable\"])[\"rating\"].sum().reset_index(name = \"tot_rating\")\n",
    "\n",
    "country_find_max = df_country_rating.groupby([\"country_cat\"])[\"tot_rating\"].idxmax()\n",
    "\n",
    "df_country_rating.loc[country_find_max]"
   ]
  },
  {
   "cell_type": "code",
   "execution_count": null,
   "metadata": {},
   "outputs": [],
   "source": []
  }
 ],
 "metadata": {
  "kernelspec": {
   "display_name": "Python 3",
   "language": "python",
   "name": "python3"
  },
  "language_info": {
   "codemirror_mode": {
    "name": "ipython",
    "version": 3
   },
   "file_extension": ".py",
   "mimetype": "text/x-python",
   "name": "python",
   "nbconvert_exporter": "python",
   "pygments_lexer": "ipython3",
   "version": "3.12.3"
  }
 },
 "nbformat": 4,
 "nbformat_minor": 2
}
