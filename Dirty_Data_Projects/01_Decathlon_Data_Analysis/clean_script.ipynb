{
 "cells": [
  {
   "cell_type": "code",
   "execution_count": 17,
   "metadata": {},
   "outputs": [],
   "source": [
    "\n",
    "import pandas as pd\n",
    "import numpy as np\n",
    "import pyreadr\n",
    "from function_file import clean_names"
   ]
  },
  {
   "cell_type": "code",
   "execution_count": 18,
   "metadata": {},
   "outputs": [
    {
     "name": "stderr",
     "output_type": "stream",
     "text": [
      "<>:5: SyntaxWarning: invalid escape sequence '\\d'\n",
      "<>:5: SyntaxWarning: invalid escape sequence '\\d'\n",
      "C:\\Users\\K\\AppData\\Local\\Temp\\ipykernel_11588\\2218772229.py:5: SyntaxWarning: invalid escape sequence '\\d'\n",
      "  raw_rds = pyreadr.read_r('data_in\\decathlon.rds') # also works for RData\n"
     ]
    }
   ],
   "source": [
    "# 1.1 Task 1 - Decathlon Data\n",
    "# This data is contained in the .rds file decathlon.rds. You’ll need to use read_rds() from readr to open it.\n",
    "\n",
    "# Read RDS Files\n",
    "raw_rds = pyreadr.read_r('data_in\\decathlon.rds') # also works for RData\n",
    "# Convert RDS Files into dataframe\n",
    "raw_df = raw_rds[None]"
   ]
  },
  {
   "cell_type": "code",
   "execution_count": 19,
   "metadata": {},
   "outputs": [
    {
     "data": {
      "text/plain": [
       "Index(['names', '100m', 'longjump', 'shotput', 'highjump', '400m',\n",
       "       '110mhurdle', 'discus', 'polevault', 'javeline', '1500m', 'rank',\n",
       "       'points', 'competition'],\n",
       "      dtype='object')"
      ]
     },
     "execution_count": 19,
     "metadata": {},
     "output_type": "execute_result"
    }
   ],
   "source": [
    "# 1.1.1 Some cleaning hints\n",
    "# This data has row names - how do you get rid of them?\n",
    "# This data isn’t tidy.\n",
    "# You will want better column header names.\n",
    "\n",
    "clean_df = raw_df.copy()\n",
    "#Convert Row Names into a column \"Names\"\n",
    "clean_df = raw_df.reset_index().rename(columns={\"rownames\":\"names\"})\n",
    "#Apply Clean Name function to clean column headers\n",
    "clean_df = clean_df.rename(columns = clean_names)\n",
    "clean_df[\"names\"] = clean_df[\"names\"].str.capitalize()\n",
    "\n",
    "clean_df.columns"
   ]
  },
  {
   "cell_type": "code",
   "execution_count": 20,
   "metadata": {},
   "outputs": [
    {
     "name": "stdout",
     "output_type": "stream",
     "text": [
      "names          False\n",
      "100m           False\n",
      "longjump       False\n",
      "shotput        False\n",
      "highjump       False\n",
      "400m           False\n",
      "110mhurdle     False\n",
      "discus         False\n",
      "polevault      False\n",
      "javeline       False\n",
      "1500m          False\n",
      "rank           False\n",
      "points         False\n",
      "competition    False\n",
      "dtype: bool\n",
      "names          0\n",
      "100m           0\n",
      "longjump       0\n",
      "shotput        0\n",
      "highjump       0\n",
      "400m           0\n",
      "110mhurdle     0\n",
      "discus         0\n",
      "polevault      0\n",
      "javeline       0\n",
      "1500m          0\n",
      "rank           0\n",
      "points         0\n",
      "competition    0\n",
      "dtype: int64\n"
     ]
    }
   ],
   "source": [
    "#Return True if there is any Null values across columns within the dataframe\n",
    "print(clean_df.isnull().any())\n",
    "\n",
    "#Find any Null values across columns within the dataframe\n",
    "print(clean_df.isnull().sum())"
   ]
  },
  {
   "cell_type": "code",
   "execution_count": 21,
   "metadata": {},
   "outputs": [],
   "source": [
    "# 1.1.2 Analysis questions\n",
    "# What was the average 100m time in each competition?\n",
    "# Who had the highest total points across both competitions?\n",
    "# What was the shot-put scores for the top three competitors in each competition?\n",
    "# What was the average points for competitors who ran the 400m in less than 50 seconds vs. those than ran 400m in more than 50 seconds?"
   ]
  },
  {
   "cell_type": "code",
   "execution_count": 22,
   "metadata": {},
   "outputs": [
    {
     "data": {
      "text/plain": [
       "names       Clay\n",
       "longjump    7.96\n",
       "Name: 14, dtype: object"
      ]
     },
     "execution_count": 22,
     "metadata": {},
     "output_type": "execute_result"
    }
   ],
   "source": [
    "# Who had the longest long jump seen in the data?\n",
    "max_longjump = clean_df[[\"names\",\"longjump\"]].loc[clean_df[\"longjump\"].idxmax()]\n",
    "max_longjump"
   ]
  },
  {
   "cell_type": "code",
   "execution_count": 23,
   "metadata": {},
   "outputs": [
    {
     "data": {
      "text/plain": [
       "100m    10.998049\n",
       "dtype: float64"
      ]
     },
     "execution_count": 23,
     "metadata": {},
     "output_type": "execute_result"
    }
   ],
   "source": [
    "# What was the average 100m time in each competition?\n",
    "avg_100m = clean_df[[\"100m\"]].mean()\n",
    "avg_100m"
   ]
  },
  {
   "cell_type": "code",
   "execution_count": 57,
   "metadata": {},
   "outputs": [
    {
     "data": {
      "text/plain": [
       "names\n",
       "Clay    1020.72\n",
       "Name: value, dtype: float64"
      ]
     },
     "execution_count": 57,
     "metadata": {},
     "output_type": "execute_result"
    }
   ],
   "source": [
    "# Who had the highest total points across both competitions?\n",
    "highest_pts = clean_df.copy()\n",
    "# Remove the last 3 descriptive columns, prepare for pivot \n",
    "highest_pts = highest_pts.iloc[:,:-3]\n",
    "#Pivot_longer\n",
    "highest_pts = pd.melt(highest_pts, id_vars = [\"names\"])\n",
    "# highest_pts[\"value\"] = highest_pts.value.astype(float)\n",
    "highest_pts = highest_pts.groupby([\"names\"], sort = True)[\"value\"].sum()\n",
    "highest_pts.sort_values(ascending = False).head(n=1)"
   ]
  },
  {
   "cell_type": "code",
   "execution_count": 58,
   "metadata": {},
   "outputs": [
    {
     "data": {
      "text/plain": [
       "names            Sebrle\n",
       "100m              10.85\n",
       "longjump           7.84\n",
       "shotput           16.36\n",
       "highjump           2.12\n",
       "400m              48.36\n",
       "110mhurdle        14.05\n",
       "discus            48.72\n",
       "polevault           5.0\n",
       "javeline          70.52\n",
       "1500m            280.01\n",
       "rank                  1\n",
       "points             8893\n",
       "competition    OlympicG\n",
       "Name: 13, dtype: object"
      ]
     },
     "execution_count": 58,
     "metadata": {},
     "output_type": "execute_result"
    }
   ],
   "source": [
    "# Who had the highest total points across both competitions?\n",
    "highest_pts_from_points = clean_df.copy()\n",
    "highest_pts_from_points.loc[highest_pts_from_points[\"points\"].idxmax()]"
   ]
  },
  {
   "cell_type": "code",
   "execution_count": 78,
   "metadata": {},
   "outputs": [
    {
     "name": "stderr",
     "output_type": "stream",
     "text": [
      "C:\\Users\\K\\AppData\\Local\\Temp\\ipykernel_11588\\3225422068.py:5: FutureWarning: The default of observed=False is deprecated and will be changed to True in a future version of pandas. Pass observed=False to retain current behavior or observed=True to adopt the future default and silence this warning.\n",
      "  short_put_per_compet.groupby([\"competition\"]).head(n=3)\n"
     ]
    },
    {
     "data": {
      "text/html": [
       "<div>\n",
       "<style scoped>\n",
       "    .dataframe tbody tr th:only-of-type {\n",
       "        vertical-align: middle;\n",
       "    }\n",
       "\n",
       "    .dataframe tbody tr th {\n",
       "        vertical-align: top;\n",
       "    }\n",
       "\n",
       "    .dataframe thead th {\n",
       "        text-align: right;\n",
       "    }\n",
       "</style>\n",
       "<table border=\"1\" class=\"dataframe\">\n",
       "  <thead>\n",
       "    <tr style=\"text-align: right;\">\n",
       "      <th></th>\n",
       "      <th>names</th>\n",
       "      <th>shotput</th>\n",
       "      <th>competition</th>\n",
       "    </tr>\n",
       "  </thead>\n",
       "  <tbody>\n",
       "    <tr>\n",
       "      <th>4</th>\n",
       "      <td>Yurkov</td>\n",
       "      <td>15.19</td>\n",
       "      <td>Decastar</td>\n",
       "    </tr>\n",
       "    <tr>\n",
       "      <th>0</th>\n",
       "      <td>Sebrle</td>\n",
       "      <td>14.83</td>\n",
       "      <td>Decastar</td>\n",
       "    </tr>\n",
       "    <tr>\n",
       "      <th>2</th>\n",
       "      <td>Karpov</td>\n",
       "      <td>14.77</td>\n",
       "      <td>Decastar</td>\n",
       "    </tr>\n",
       "    <tr>\n",
       "      <th>13</th>\n",
       "      <td>Sebrle</td>\n",
       "      <td>16.36</td>\n",
       "      <td>OlympicG</td>\n",
       "    </tr>\n",
       "    <tr>\n",
       "      <th>15</th>\n",
       "      <td>Karpov</td>\n",
       "      <td>15.93</td>\n",
       "      <td>OlympicG</td>\n",
       "    </tr>\n",
       "    <tr>\n",
       "      <th>16</th>\n",
       "      <td>Macey</td>\n",
       "      <td>15.73</td>\n",
       "      <td>OlympicG</td>\n",
       "    </tr>\n",
       "  </tbody>\n",
       "</table>\n",
       "</div>"
      ],
      "text/plain": [
       "     names  shotput competition\n",
       "4   Yurkov    15.19    Decastar\n",
       "0   Sebrle    14.83    Decastar\n",
       "2   Karpov    14.77    Decastar\n",
       "13  Sebrle    16.36    OlympicG\n",
       "15  Karpov    15.93    OlympicG\n",
       "16   Macey    15.73    OlympicG"
      ]
     },
     "execution_count": 78,
     "metadata": {},
     "output_type": "execute_result"
    }
   ],
   "source": [
    "# What was the shot-put scores for the top three competitors in each competition?\n",
    "short_put_per_compet = clean_df.copy()\n",
    "short_put_per_compet = short_put_per_compet[[\"names\",\"shotput\",\"competition\"]].sort_values([\"competition\", \"shotput\"], ascending=[True, False])\n",
    "\n",
    "short_put_per_compet.groupby([\"competition\"]).head(n=3)"
   ]
  },
  {
   "cell_type": "code",
   "execution_count": 80,
   "metadata": {},
   "outputs": [
    {
     "data": {
      "text/plain": [
       "faster_than_50\n",
       "False    8120.482759\n",
       "True     7727.166667\n",
       "Name: points, dtype: float64"
      ]
     },
     "execution_count": 80,
     "metadata": {},
     "output_type": "execute_result"
    }
   ],
   "source": [
    "# What was the average points \n",
    "# for competitors who ran the 400m in less than 50 seconds vs. \n",
    "# those than ran 400m in more than 50 seconds?\n",
    "\n",
    "avg_pts_400m = clean_df.copy()\n",
    "#Create a new boolean column for 400m >= 50s or 400m < 50s\n",
    "#True = Faster or Equal to 50 seconds\n",
    "#False = 50 Seconds or Less\n",
    "avg_pts_400m[\"faster_than_50\"] = avg_pts_400m[\"400m\"]>=50\n",
    "\n",
    "avg_pts_400m.groupby(\"faster_than_50\")[\"points\"].mean()"
   ]
  }
 ],
 "metadata": {
  "kernelspec": {
   "display_name": "Python 3",
   "language": "python",
   "name": "python3"
  },
  "language_info": {
   "codemirror_mode": {
    "name": "ipython",
    "version": 3
   },
   "file_extension": ".py",
   "mimetype": "text/x-python",
   "name": "python",
   "nbconvert_exporter": "python",
   "pygments_lexer": "ipython3",
   "version": "3.12.3"
  }
 },
 "nbformat": 4,
 "nbformat_minor": 2
}
