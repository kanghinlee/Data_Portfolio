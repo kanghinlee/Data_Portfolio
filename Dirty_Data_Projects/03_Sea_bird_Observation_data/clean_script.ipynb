{
 "cells": [
  {
   "cell_type": "code",
   "execution_count": 12,
   "metadata": {},
   "outputs": [],
   "source": [
    "import pandas as pd\n",
    "import numpy as np\n",
    "from function_file import clean_names"
   ]
  },
  {
   "cell_type": "code",
   "execution_count": 24,
   "metadata": {},
   "outputs": [],
   "source": [
    "df_bird = pd.read_excel(r\"data_in\\seabirds.xls\", sheet_name= \"Bird data by record ID\")\n",
    "df_ship = pd.read_excel(r\"data_in\\seabirds.xls\", sheet_name= \"Ship data by record ID\")\n",
    "# Bird data by record ID"
   ]
  },
  {
   "cell_type": "code",
   "execution_count": 33,
   "metadata": {},
   "outputs": [
    {
     "data": {
      "text/plain": [
       "Index(['record', 'record_id', 'date', 'time', 'lat', 'long', 'ew', 'sact',\n",
       "       'speed', 'sdir', 'cld', 'prec', 'wspeed', 'wdir', 'atmp', 'aprs',\n",
       "       'sste', 'stmp', 'sal', 'depth', 'obs', 'csmeth', 'month', 'seasn',\n",
       "       'long360', 'latcell', 'longecell'],\n",
       "      dtype='object')"
      ]
     },
     "execution_count": 33,
     "metadata": {},
     "output_type": "execute_result"
    }
   ],
   "source": [
    "clean_bird = df_bird.rename(columns = clean_names).copy()\n",
    "clean_ship = df_ship.rename(columns = clean_names).copy()\n",
    "\n",
    "\n",
    "clean_ship.columns"
   ]
  },
  {
   "cell_type": "code",
   "execution_count": 34,
   "metadata": {},
   "outputs": [
    {
     "data": {
      "text/plain": [
       "Index(['record', 'record_id',\n",
       "       'species_common_name_taxon_age__sex__plumage_phase',\n",
       "       'species__scientific_name_taxon_age_sex___plumage_phase',\n",
       "       'species_abbreviation', 'age', 'wanplum', 'plphase', 'sex', 'count',\n",
       "       'nfeed', 'ocfeed', 'nsow', 'ocsow', 'nsoice', 'ocsoice', 'ocsoshp',\n",
       "       'ocinhd', 'nflyp', 'ocflyp', 'nacc', 'ocacc', 'nfoll', 'ocfol',\n",
       "       'ocmoult', 'ocnatfed'],\n",
       "      dtype='object')"
      ]
     },
     "execution_count": 34,
     "metadata": {},
     "output_type": "execute_result"
    }
   ],
   "source": [
    "clean_bird.columns"
   ]
  },
  {
   "cell_type": "code",
   "execution_count": 32,
   "metadata": {},
   "outputs": [],
   "source": [
    "test = clean_ship[[\"record_id\",\"date\",\"\",\"\"]]"
   ]
  },
  {
   "cell_type": "code",
   "execution_count": null,
   "metadata": {},
   "outputs": [],
   "source": [
    "df = pd.merge(clean_ship, clean_bird,how = \"left\", on = \"record_id\")"
   ]
  },
  {
   "cell_type": "code",
   "execution_count": null,
   "metadata": {},
   "outputs": [],
   "source": [
    "# 1.3 Task 3 - Sea bird observation data\n",
    "# The data for this project is in the file seabirds.xls, in particular the sheets Bird data by record ID and Ship data by record ID.\n",
    "\n",
    "# 1.3.1 Some cleaning hints\n",
    "# Do we need all the variables for this data?\n",
    "# You’ll need to join the ship data to the bird record data"
   ]
  },
  {
   "cell_type": "code",
   "execution_count": null,
   "metadata": {},
   "outputs": [],
   "source": [
    "# 1.3.2 Analysis questions\n",
    "# For each question where we ask for bird names, give the bird’s common name, scientific name and species abbreviation.\n",
    "\n",
    "# Which bird had the most individual sightings?\n",
    "# Which bird had the highest total count?\n",
    "# Which bird had the highest total count above a latitude of -30?\n",
    "# How many different types of birds were only ever seen in groups of 1?\n",
    "# How many penguins were seen? (Hint: there are many types of penguin)"
   ]
  },
  {
   "cell_type": "code",
   "execution_count": null,
   "metadata": {},
   "outputs": [],
   "source": []
  }
 ],
 "metadata": {
  "kernelspec": {
   "display_name": "Python 3",
   "language": "python",
   "name": "python3"
  },
  "language_info": {
   "codemirror_mode": {
    "name": "ipython",
    "version": 3
   },
   "file_extension": ".py",
   "mimetype": "text/x-python",
   "name": "python",
   "nbconvert_exporter": "python",
   "pygments_lexer": "ipython3",
   "version": "3.12.3"
  }
 },
 "nbformat": 4,
 "nbformat_minor": 2
}
