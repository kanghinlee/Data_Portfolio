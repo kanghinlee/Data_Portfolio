{
 "cells": [
  {
   "cell_type": "code",
   "execution_count": 1,
   "metadata": {},
   "outputs": [
    {
     "name": "stderr",
     "output_type": "stream",
     "text": [
      "C:\\Users\\K\\AppData\\Local\\Temp\\ipykernel_19508\\579319779.py:1: DeprecationWarning: \n",
      "Pyarrow will become a required dependency of pandas in the next major release of pandas (pandas 3.0),\n",
      "(to allow more performant data types, such as the Arrow string type, and better interoperability with other libraries)\n",
      "but was not found to be installed on your system.\n",
      "If this would cause problems for you,\n",
      "please provide us feedback at https://github.com/pandas-dev/pandas/issues/54466\n",
      "        \n",
      "  import pandas as pd\n"
     ]
    }
   ],
   "source": [
    "import pandas as pd\n",
    "import numpy as np\n",
    "from function_file import clean_names\n",
    "\n",
    "\n",
    "# print(clean_df.isnull().any())\n",
    "# print(clean_df.isnull().sum())"
   ]
  },
  {
   "cell_type": "code",
   "execution_count": 2,
   "metadata": {},
   "outputs": [],
   "source": [
    "cake_header = pd.read_csv(r\"data_in\\cake_ingredient_code.csv\")\n",
    "raw_df = pd.read_csv(r\"data_in\\cake-ingredients-1961.csv\")\n",
    "# print(raw_df.isnull().sum())"
   ]
  },
  {
   "cell_type": "code",
   "execution_count": 3,
   "metadata": {},
   "outputs": [],
   "source": [
    "# Data Model\n",
    "\n",
    "clean_df = raw_df.copy()\n",
    "\n",
    "# Pivot longer by Cake,\n",
    "clean_df = (pd.melt(clean_df, id_vars = [\"Cake\"])\n",
    "            .rename(columns = clean_names))\n",
    "# clean_df = clean_df\n",
    "\n",
    "# test = clean_df.set_index(\"variable\").join(cake_header.set_index(\"code\"))\n",
    "\n",
    "df = pd.merge(clean_df, cake_header, left_on = 'variable', right_on = 'code')\n",
    "\n",
    "#Create a unqiue list of ingredient\n",
    "# df[\"ingredient\"].drop_duplicates()\n",
    "# df[\"cake\"].drop_duplicates()"
   ]
  },
  {
   "cell_type": "code",
   "execution_count": 4,
   "metadata": {},
   "outputs": [],
   "source": [
    "# 1.2.2 Analysis questions\n",
    "# Which cake has the most cocoa in it?\n",
    "# For sponge cake, how many cups of ingredients are used in total?\n",
    "# How many ingredients are measured in teaspoons?\n",
    "# Which cake has the most unique ingredients?\n",
    "# Which ingredients are used only once?"
   ]
  },
  {
   "cell_type": "code",
   "execution_count": 5,
   "metadata": {},
   "outputs": [
    {
     "data": {
      "text/html": [
       "<div>\n",
       "<style scoped>\n",
       "    .dataframe tbody tr th:only-of-type {\n",
       "        vertical-align: middle;\n",
       "    }\n",
       "\n",
       "    .dataframe tbody tr th {\n",
       "        vertical-align: top;\n",
       "    }\n",
       "\n",
       "    .dataframe thead th {\n",
       "        text-align: right;\n",
       "    }\n",
       "</style>\n",
       "<table border=\"1\" class=\"dataframe\">\n",
       "  <thead>\n",
       "    <tr style=\"text-align: right;\">\n",
       "      <th></th>\n",
       "      <th>cake</th>\n",
       "      <th>variable</th>\n",
       "      <th>value</th>\n",
       "      <th>code</th>\n",
       "      <th>ingredient</th>\n",
       "      <th>measure</th>\n",
       "    </tr>\n",
       "  </thead>\n",
       "  <tbody>\n",
       "    <tr>\n",
       "      <th>97</th>\n",
       "      <td>One Bowl Chocolate</td>\n",
       "      <td>CA</td>\n",
       "      <td>10.0</td>\n",
       "      <td>CA</td>\n",
       "      <td>Cocoa</td>\n",
       "      <td>tablespoon</td>\n",
       "    </tr>\n",
       "  </tbody>\n",
       "</table>\n",
       "</div>"
      ],
      "text/plain": [
       "                     cake variable  value code ingredient      measure\n",
       "97  One Bowl Chocolate          CA   10.0   CA      Cocoa   tablespoon"
      ]
     },
     "execution_count": 5,
     "metadata": {},
     "output_type": "execute_result"
    }
   ],
   "source": [
    "# Which cake has the most cocoa in it?\n",
    "\n",
    "(df.loc[(df[\"ingredient\"] == \"Cocoa\") & (df[\"value\"].notna())]\n",
    ".sort_values(by=[\"value\"], ascending = False)\n",
    ".head(1))"
   ]
  },
  {
   "cell_type": "code",
   "execution_count": 6,
   "metadata": {},
   "outputs": [
    {
     "data": {
      "text/plain": [
       "240.39999999999998"
      ]
     },
     "execution_count": 6,
     "metadata": {},
     "output_type": "execute_result"
    }
   ],
   "source": [
    "# For sponge cake, how many cups of ingredients are used in total?\n",
    "\n",
    "sponge_cups = df.copy()\n",
    "sponge_cups.loc[(sponge_cups[\"cake\"] == \"Sponge\") & (sponge_cups[\"measure\"] == \"cup\")]\n",
    "\n",
    "sponge_cups[\"value\"].sum()"
   ]
  },
  {
   "cell_type": "code",
   "execution_count": 43,
   "metadata": {},
   "outputs": [
    {
     "data": {
      "text/plain": [
       "8"
      ]
     },
     "execution_count": 43,
     "metadata": {},
     "output_type": "execute_result"
    }
   ],
   "source": [
    "# How many ingredients are measured in teaspoons?\n",
    "\n",
    "tspoon_count = cake_header.copy()\n",
    "\n",
    "tspoon_count[\"measure\"] = (tspoon_count[\"measure\"]\n",
    "                           .str.lower()\n",
    "                           .str.strip()\n",
    "                           .astype(\"category\"))\n",
    "\n",
    "ingred_measure_in_tspoon = (tspoon_count\n",
    "                            .loc[tspoon_count['measure'] == \"teaspoon\"]\n",
    "                            .drop_duplicates(subset=\"ingredient\")\n",
    "                            .shape[0])\n",
    "ingred_measure_in_tspoon"
   ]
  },
  {
   "cell_type": "code",
   "execution_count": 61,
   "metadata": {},
   "outputs": [
    {
     "data": {
      "text/plain": [
       "cake\n",
       "Babas au Rhum            9\n",
       "Name: ingredient, dtype: int64"
      ]
     },
     "execution_count": 61,
     "metadata": {},
     "output_type": "execute_result"
    }
   ],
   "source": [
    "# Which cake has the most unique ingredients?\n",
    "cake_unique_ingred = df[[\"cake\",\"ingredient\",\"value\"]].copy()\n",
    "cake_unique_ingred = cake_unique_ingred.loc[cake_unique_ingred[\"value\"].notna()].drop_duplicates(subset = \"ingredient\")\n",
    "\n",
    "filtered = (cake_unique_ingred\n",
    ".groupby([\"cake\"], sort = True)[\"ingredient\"].count()).nlargest(1)\n",
    "filtered"
   ]
  },
  {
   "cell_type": "code",
   "execution_count": 87,
   "metadata": {},
   "outputs": [
    {
     "data": {
      "text/html": [
       "<div>\n",
       "<style scoped>\n",
       "    .dataframe tbody tr th:only-of-type {\n",
       "        vertical-align: middle;\n",
       "    }\n",
       "\n",
       "    .dataframe tbody tr th {\n",
       "        vertical-align: top;\n",
       "    }\n",
       "\n",
       "    .dataframe thead th {\n",
       "        text-align: right;\n",
       "    }\n",
       "</style>\n",
       "<table border=\"1\" class=\"dataframe\">\n",
       "  <thead>\n",
       "    <tr style=\"text-align: right;\">\n",
       "      <th></th>\n",
       "      <th>ingredient</th>\n",
       "      <th>value</th>\n",
       "    </tr>\n",
       "  </thead>\n",
       "  <tbody>\n",
       "    <tr>\n",
       "      <th>2</th>\n",
       "      <td>Bananas</td>\n",
       "      <td>1</td>\n",
       "    </tr>\n",
       "    <tr>\n",
       "      <th>7</th>\n",
       "      <td>Cream of tartar</td>\n",
       "      <td>1</td>\n",
       "    </tr>\n",
       "    <tr>\n",
       "      <th>9</th>\n",
       "      <td>Crushed Ice</td>\n",
       "      <td>1</td>\n",
       "    </tr>\n",
       "    <tr>\n",
       "      <th>10</th>\n",
       "      <td>Dried currants</td>\n",
       "      <td>1</td>\n",
       "    </tr>\n",
       "    <tr>\n",
       "      <th>11</th>\n",
       "      <td>Egg white</td>\n",
       "      <td>1</td>\n",
       "    </tr>\n",
       "    <tr>\n",
       "      <th>20</th>\n",
       "      <td>Nutmeg</td>\n",
       "      <td>1</td>\n",
       "    </tr>\n",
       "    <tr>\n",
       "      <th>21</th>\n",
       "      <td>Nuts</td>\n",
       "      <td>1</td>\n",
       "    </tr>\n",
       "    <tr>\n",
       "      <th>32</th>\n",
       "      <td>Zwiebach</td>\n",
       "      <td>1</td>\n",
       "    </tr>\n",
       "  </tbody>\n",
       "</table>\n",
       "</div>"
      ],
      "text/plain": [
       "         ingredient  value\n",
       "2           Bananas      1\n",
       "7   Cream of tartar      1\n",
       "9       Crushed Ice      1\n",
       "10   Dried currants      1\n",
       "11        Egg white      1\n",
       "20           Nutmeg      1\n",
       "21             Nuts      1\n",
       "32         Zwiebach      1"
      ]
     },
     "execution_count": 87,
     "metadata": {},
     "output_type": "execute_result"
    }
   ],
   "source": [
    "# Which ingredients are used only once?\n",
    "\n",
    "unique_ingred = df[[\"ingredient\",\"value\"]].copy()\n",
    "unique_ingred = unique_ingred.loc[(unique_ingred[\"value\"].notna()) & (unique_ingred[\"value\"] != 0)]\n",
    "filter = unique_ingred.groupby([\"ingredient\"])[\"value\"].count().reset_index()\n",
    "filter = filter.loc[filter[\"value\"]==1]\n",
    "filter"
   ]
  }
 ],
 "metadata": {
  "kernelspec": {
   "display_name": "Python 3",
   "language": "python",
   "name": "python3"
  },
  "language_info": {
   "codemirror_mode": {
    "name": "ipython",
    "version": 3
   },
   "file_extension": ".py",
   "mimetype": "text/x-python",
   "name": "python",
   "nbconvert_exporter": "python",
   "pygments_lexer": "ipython3",
   "version": "3.12.3"
  }
 },
 "nbformat": 4,
 "nbformat_minor": 2
}
